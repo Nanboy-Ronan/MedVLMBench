{
 "cells": [
  {
   "cell_type": "code",
   "execution_count": 11,
   "metadata": {},
   "outputs": [],
   "source": [
    "import os\n",
    "import glob\n",
    "\n",
    "exp_path = \"/research/d5/gds/yzhong22/experiments/med_vlm_benchmark\"\n",
    "exp_path_mirror = \"/media/yesindeed/DATADRIVE1/mount/remote_cse/experiments/med_vlm_benchmark\""
   ]
  },
  {
   "cell_type": "code",
   "execution_count": 1,
   "metadata": {},
   "outputs": [
    {
     "name": "stdout",
     "output_type": "stream",
     "text": [
      "python run_train.py     --peft lora --lora_r 16 --lora_alpha 32     --task vqa --dataset SLAKE     --model MedGemma    --image_path /research/d5/gds/yzhong22/datasets/SLAKE/imgs     --model_path /research/d5/gds/yzhong22/misc/pretrained/medgemma-4b-it     --bf16 True     --output_dir /research/d5/gds/yzhong22/experiments/med_vlm_benchmark     --cache_dir /research/d5/gds/yzhong22/misc/cache     --num_train_epochs 3     --per_device_train_batch_size 4     --per_device_eval_batch_size 4     --gradient_accumulation_steps 4     --save_strategy \"epoch\"     --learning_rate 2e-4     --warmup_ratio 0.03     --lr_scheduler_type \"linear\"     --gradient_checkpointing True     --dataloader_num_workers 4     --tune_modules ML\n"
     ]
    }
   ],
   "source": [
    "# train\n",
    "\n",
    "tune_modules = [\"ML\"]\n",
    "datasets = {\n",
    "    \"SLAKE\": \"/research/d5/gds/yzhong22/datasets/SLAKE/imgs\",\n",
    "    # \"PathVQA\": \"None\",\n",
    "    # \"VQA-RAD\": \"None\",\n",
    "    # \"Harvard-FairVLMed10k\": \"/research/d5/gds/yzhong22/datasets/Harvard-FairVLMed10k\",\n",
    "}\n",
    "\n",
    "base_command = \"\"\"python run_train.py \\\n",
    "    --peft lora --lora_r 16 --lora_alpha 32 \\\n",
    "    --task vqa --dataset {} \\\n",
    "    --model MedGemma\\\n",
    "    --image_path {} \\\n",
    "    --model_path /research/d5/gds/yzhong22/misc/pretrained/medgemma-4b-it \\\n",
    "    --bf16 True \\\n",
    "    --output_dir /research/d5/gds/yzhong22/experiments/med_vlm_benchmark \\\n",
    "    --cache_dir /research/d5/gds/yzhong22/misc/cache \\\n",
    "    --num_train_epochs 3 \\\n",
    "    --per_device_train_batch_size {} \\\n",
    "    --per_device_eval_batch_size 4 \\\n",
    "    --gradient_accumulation_steps {} \\\n",
    "    --save_strategy \"epoch\" \\\n",
    "    --learning_rate 2e-4 \\\n",
    "    --warmup_ratio 0.03 \\\n",
    "    --lr_scheduler_type \"linear\" \\\n",
    "    --gradient_checkpointing True \\\n",
    "    --dataloader_num_workers 4 \\\n",
    "    --tune_modules {}\"\"\"\n",
    "\n",
    "per_device_train_batch_size = 4\n",
    "gradient_accumulation_steps = 4\n",
    "\n",
    "assert per_device_train_batch_size * gradient_accumulation_steps == 16\n",
    "\n",
    "commands = []\n",
    "\n",
    "for data, path in datasets.items():\n",
    "    for tm in tune_modules:\n",
    "        commands.append(\n",
    "            base_command.format(\n",
    "                data,\n",
    "                path,\n",
    "                per_device_train_batch_size,\n",
    "                int(gradient_accumulation_steps),\n",
    "                tm,\n",
    "            )\n",
    "        )\n",
    "\n",
    "print(\"&&\".join(commands))"
   ]
  },
  {
   "cell_type": "markdown",
   "metadata": {},
   "source": [
    "# EVAL"
   ]
  },
  {
   "cell_type": "markdown",
   "metadata": {},
   "source": [
    "## zero-shot"
   ]
  },
  {
   "cell_type": "code",
   "execution_count": 1,
   "metadata": {},
   "outputs": [
    {
     "name": "stdout",
     "output_type": "stream",
     "text": [
      "python run_eval.py     --task vqa --dataset SLAKE --split test     --image_path /research/d5/gds/yzhong22/datasets/SLAKE/imgs     --model MedGemma --model_path /research/d5/gds/yzhong22/misc/pretrained/medgemma-4b-it     --exp_path /research/d5/gds/yzhong22/experiments/med_vlm_benchmark     --cache_dir /research/d5/gds/yzhong22/misc/cache     --save_pred&&python run_eval.py     --task vqa --dataset PathVQA --split test     --image_path None     --model MedGemma --model_path /research/d5/gds/yzhong22/misc/pretrained/medgemma-4b-it     --exp_path /research/d5/gds/yzhong22/experiments/med_vlm_benchmark     --cache_dir /research/d5/gds/yzhong22/misc/cache     --save_pred&&python run_eval.py     --task vqa --dataset VQA-RAD --split test     --image_path None     --model MedGemma --model_path /research/d5/gds/yzhong22/misc/pretrained/medgemma-4b-it     --exp_path /research/d5/gds/yzhong22/experiments/med_vlm_benchmark     --cache_dir /research/d5/gds/yzhong22/misc/cache     --save_pred&&python run_eval.py     --task vqa --dataset Harvard-FairVLMed10k --split test     --image_path /research/d5/gds/yzhong22/datasets/Harvard-FairVLMed10k     --model MedGemma --model_path /research/d5/gds/yzhong22/misc/pretrained/medgemma-4b-it     --exp_path /research/d5/gds/yzhong22/experiments/med_vlm_benchmark     --cache_dir /research/d5/gds/yzhong22/misc/cache     --save_pred\n"
     ]
    }
   ],
   "source": [
    "# eval\n",
    "\n",
    "datasets = {\n",
    "    \"SLAKE\": \"/research/d5/gds/yzhong22/datasets/SLAKE/imgs\",\n",
    "    \"PathVQA\": \"None\",\n",
    "    \"VQA-RAD\": \"None\",\n",
    "    \"Harvard-FairVLMed10k\": \"/research/d5/gds/yzhong22/datasets/Harvard-FairVLMed10k\",\n",
    "}\n",
    "\n",
    "base_command = \"\"\"python run_eval.py \\\n",
    "    --task vqa --dataset {} --split test \\\n",
    "    --image_path {} \\\n",
    "    --model MedGemma --model_path /research/d5/gds/yzhong22/misc/pretrained/medgemma-4b-it \\\n",
    "    --exp_path /research/d5/gds/yzhong22/experiments/med_vlm_benchmark \\\n",
    "    --cache_dir /research/d5/gds/yzhong22/misc/cache \\\n",
    "    --save_pred\"\"\"\n",
    "\n",
    "commands = []\n",
    "for data, path in datasets.items():\n",
    "\n",
    "    commands.append(base_command.format(data, path))\n",
    "\n",
    "print(\"&&\".join(commands))\n",
    "\n",
    "# print(commands[3])"
   ]
  },
  {
   "cell_type": "code",
   "execution_count": null,
   "metadata": {},
   "outputs": [],
   "source": [
    "# zero-shot eval"
   ]
  }
 ],
 "metadata": {
  "kernelspec": {
   "display_name": "vlmbenchmark",
   "language": "python",
   "name": "python3"
  },
  "language_info": {
   "codemirror_mode": {
    "name": "ipython",
    "version": 3
   },
   "file_extension": ".py",
   "mimetype": "text/x-python",
   "name": "python",
   "nbconvert_exporter": "python",
   "pygments_lexer": "ipython3",
   "version": "3.11.0"
  }
 },
 "nbformat": 4,
 "nbformat_minor": 2
}
