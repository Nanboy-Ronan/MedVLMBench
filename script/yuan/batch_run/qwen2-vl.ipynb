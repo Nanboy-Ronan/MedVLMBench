{
 "cells": [
  {
   "cell_type": "code",
   "execution_count": 11,
   "metadata": {},
   "outputs": [],
   "source": [
    "import os\n",
    "import glob\n",
    "\n",
    "exp_path = \"/research/d5/gds/yzhong22/experiments/med_vlm_benchmark\"\n",
    "exp_path_mirror = \"/media/yesindeed/DATADRIVE1/mount/remote_cse/experiments/med_vlm_benchmark\""
   ]
  },
  {
   "cell_type": "code",
   "execution_count": 12,
   "metadata": {},
   "outputs": [
    {
     "name": "stdout",
     "output_type": "stream",
     "text": [
      "deepspeed --master_port 29600 run_train.py     --peft lora --lora_r 128 --lora_alpha 256 --mm_projector_lr 2e-5     --deepspeed ./script/zero3.json     --task vqa --dataset Harvard-FairVLMed10k     --model LLaVA-1.5 --version v1     --image_path /research/d5/gds/yzhong22/datasets/Harvard-FairVLMed10k     --model_path /research/d5/gds/yzhong22/misc/pretrained/llava-v1.5-7b     --mm_projector_type mlp2x_gelu     --mm_vision_select_layer -2     --mm_use_im_start_end False     --mm_use_im_patch_token False     --image_aspect_ratio pad     --group_by_modality_length True     --bf16 True     --output_dir /research/d5/gds/yzhong22/experiments/med_vlm_benchmark     --cache_dir /research/d5/gds/yzhong22/misc/cache     --num_train_epochs 3     --per_device_train_batch_size 2     --per_device_eval_batch_size 4     --gradient_accumulation_steps 8     --evaluation_strategy \"no\"     --save_strategy \"steps\"     --save_steps 50000     --save_total_limit 1     --learning_rate 2e-5     --weight_decay 0.     --warmup_ratio 0.03     --lr_scheduler_type \"cosine\"     --logging_steps 1     --tf32 True     --model_max_length 2048     --gradient_checkpointing False     --dataloader_num_workers 4     --tune_modules VLM&&deepspeed --master_port 29600 run_train.py     --peft lora --lora_r 128 --lora_alpha 256 --mm_projector_lr 2e-5     --deepspeed ./script/zero3.json     --task vqa --dataset Harvard-FairVLMed10k     --model LLaVA-1.5 --version v1     --image_path /research/d5/gds/yzhong22/datasets/Harvard-FairVLMed10k     --model_path /research/d5/gds/yzhong22/misc/pretrained/llava-v1.5-7b     --mm_projector_type mlp2x_gelu     --mm_vision_select_layer -2     --mm_use_im_start_end False     --mm_use_im_patch_token False     --image_aspect_ratio pad     --group_by_modality_length True     --bf16 True     --output_dir /research/d5/gds/yzhong22/experiments/med_vlm_benchmark     --cache_dir /research/d5/gds/yzhong22/misc/cache     --num_train_epochs 3     --per_device_train_batch_size 2     --per_device_eval_batch_size 4     --gradient_accumulation_steps 8     --evaluation_strategy \"no\"     --save_strategy \"steps\"     --save_steps 50000     --save_total_limit 1     --learning_rate 2e-5     --weight_decay 0.     --warmup_ratio 0.03     --lr_scheduler_type \"cosine\"     --logging_steps 1     --tf32 True     --model_max_length 2048     --gradient_checkpointing False     --dataloader_num_workers 4     --tune_modules VM&&deepspeed --master_port 29600 run_train.py     --peft lora --lora_r 128 --lora_alpha 256 --mm_projector_lr 2e-5     --deepspeed ./script/zero3.json     --task vqa --dataset Harvard-FairVLMed10k     --model LLaVA-1.5 --version v1     --image_path /research/d5/gds/yzhong22/datasets/Harvard-FairVLMed10k     --model_path /research/d5/gds/yzhong22/misc/pretrained/llava-v1.5-7b     --mm_projector_type mlp2x_gelu     --mm_vision_select_layer -2     --mm_use_im_start_end False     --mm_use_im_patch_token False     --image_aspect_ratio pad     --group_by_modality_length True     --bf16 True     --output_dir /research/d5/gds/yzhong22/experiments/med_vlm_benchmark     --cache_dir /research/d5/gds/yzhong22/misc/cache     --num_train_epochs 3     --per_device_train_batch_size 2     --per_device_eval_batch_size 4     --gradient_accumulation_steps 8     --evaluation_strategy \"no\"     --save_strategy \"steps\"     --save_steps 50000     --save_total_limit 1     --learning_rate 2e-5     --weight_decay 0.     --warmup_ratio 0.03     --lr_scheduler_type \"cosine\"     --logging_steps 1     --tf32 True     --model_max_length 2048     --gradient_checkpointing False     --dataloader_num_workers 4     --tune_modules V\n"
     ]
    }
   ],
   "source": [
    "# train\n",
    "\n",
    "tune_modules = [\"L\", \"M\", \"ML\", \"VLM\", \"VM\", \"V\"]\n",
    "tune_modules = [\n",
    "    # \"V\",\n",
    "    \"VLM\",\n",
    "    \"VM\",\n",
    "    \"V\",\n",
    "]\n",
    "\n",
    "# datasets = {\"SLAKE\": \"/research/d5/gds/yzhong22/datasets/SLAKE/imgs\", \"PathVQA\": \"None\", \"VQA-RAD\": \"None\"}\n",
    "\n",
    "datasets = {\n",
    "    \"Harvard-FairVLMed10k\": \"/research/d5/gds/yzhong22/datasets/Harvard-FairVLMed10k\"}\n",
    "\n",
    "base_command = \"\"\"deepspeed --master_port 29600 run_train.py \\\n",
    "    --peft lora --lora_r 128 --lora_alpha 256 --mm_projector_lr 2e-5 \\\n",
    "    --deepspeed ./script/zero3.json \\\n",
    "    --task vqa --dataset {} \\\n",
    "    --model LLaVA-1.5 --version v1 \\\n",
    "    --image_path {} \\\n",
    "    --model_path /research/d5/gds/yzhong22/misc/pretrained/llava-v1.5-7b \\\n",
    "    --mm_projector_type mlp2x_gelu \\\n",
    "    --mm_vision_select_layer -2 \\\n",
    "    --mm_use_im_start_end False \\\n",
    "    --mm_use_im_patch_token False \\\n",
    "    --image_aspect_ratio pad \\\n",
    "    --group_by_modality_length True \\\n",
    "    --bf16 True \\\n",
    "    --output_dir /research/d5/gds/yzhong22/experiments/med_vlm_benchmark \\\n",
    "    --cache_dir /research/d5/gds/yzhong22/misc/cache \\\n",
    "    --num_train_epochs 3 \\\n",
    "    --per_device_train_batch_size {} \\\n",
    "    --per_device_eval_batch_size 4 \\\n",
    "    --gradient_accumulation_steps {} \\\n",
    "    --evaluation_strategy \"no\" \\\n",
    "    --save_strategy \"steps\" \\\n",
    "    --save_steps 50000 \\\n",
    "    --save_total_limit 1 \\\n",
    "    --learning_rate 2e-5 \\\n",
    "    --weight_decay 0. \\\n",
    "    --warmup_ratio 0.03 \\\n",
    "    --lr_scheduler_type \"cosine\" \\\n",
    "    --logging_steps 1 \\\n",
    "    --tf32 True \\\n",
    "    --model_max_length 2048 \\\n",
    "    --gradient_checkpointing {} \\\n",
    "    --dataloader_num_workers 4 \\\n",
    "    --tune_modules {}\"\"\"\n",
    "\n",
    "per_device_train_batch_size = 16\n",
    "gradient_accumulation_steps = 1\n",
    "gradient_checkpointing = True\n",
    "\n",
    "bs_scale_factor = 8\n",
    "\n",
    "assert per_device_train_batch_size * gradient_accumulation_steps == 16\n",
    "\n",
    "commands = []\n",
    "\n",
    "for data, path in datasets.items():\n",
    "    for tm in tune_modules:\n",
    "        if \"V\" not in tm:\n",
    "            commands.append(\n",
    "                base_command.format(\n",
    "                    data, path, per_device_train_batch_size, gradient_accumulation_steps, gradient_checkpointing, tm\n",
    "                )\n",
    "            )\n",
    "        else:\n",
    "            commands.append(\n",
    "                base_command.format(\n",
    "                    data,\n",
    "                    path,\n",
    "                    per_device_train_batch_size // bs_scale_factor,\n",
    "                    int(gradient_accumulation_steps * bs_scale_factor),\n",
    "                    False,\n",
    "                    tm,\n",
    "                )\n",
    "            )\n",
    "\n",
    "print(\"&&\".join(commands))"
   ]
  },
  {
   "cell_type": "markdown",
   "metadata": {},
   "source": [
    "# EVAL"
   ]
  },
  {
   "cell_type": "markdown",
   "metadata": {},
   "source": [
    "## zero-shot"
   ]
  },
  {
   "cell_type": "code",
   "execution_count": 2,
   "metadata": {},
   "outputs": [
    {
     "name": "stdout",
     "output_type": "stream",
     "text": [
      "python run_eval.py     --task vqa --dataset PathVQA --split test     --image_path None     --model Qwen2-VL --model_path /research/d5/gds/yzhong22/misc/pretrained/Qwen2-VL-7B-Instruct     --exp_path /research/d5/gds/yzhong22/experiments/med_vlm_benchmark     --cache_dir /research/d5/gds/yzhong22/misc/cache     --save_pred&&python run_eval.py     --task vqa --dataset VQA-RAD --split test     --image_path None     --model Qwen2-VL --model_path /research/d5/gds/yzhong22/misc/pretrained/Qwen2-VL-7B-Instruct     --exp_path /research/d5/gds/yzhong22/experiments/med_vlm_benchmark     --cache_dir /research/d5/gds/yzhong22/misc/cache     --save_pred&&python run_eval.py     --task vqa --dataset Harvard-FairVLMed10k --split test     --image_path /research/d5/gds/yzhong22/datasets/Harvard-FairVLMed10k     --model Qwen2-VL --model_path /research/d5/gds/yzhong22/misc/pretrained/Qwen2-VL-7B-Instruct     --exp_path /research/d5/gds/yzhong22/experiments/med_vlm_benchmark     --cache_dir /research/d5/gds/yzhong22/misc/cache     --save_pred\n"
     ]
    }
   ],
   "source": [
    "# qwen2\n",
    "\n",
    "datasets = {\n",
    "    # \"SLAKE\": \"/research/d5/gds/yzhong22/datasets/SLAKE/imgs\",\n",
    "    \"PathVQA\": \"None\",\n",
    "    \"VQA-RAD\": \"None\",\n",
    "    \"Harvard-FairVLMed10k\": \"/research/d5/gds/yzhong22/datasets/Harvard-FairVLMed10k\",\n",
    "}\n",
    "\n",
    "base_command = \"\"\"python run_eval.py \\\n",
    "    --task vqa --dataset {} --split test \\\n",
    "    --image_path {} \\\n",
    "    --model Qwen2-VL --model_path /research/d5/gds/yzhong22/misc/pretrained/Qwen2-VL-7B-Instruct \\\n",
    "    --exp_path /research/d5/gds/yzhong22/experiments/med_vlm_benchmark \\\n",
    "    --cache_dir /research/d5/gds/yzhong22/misc/cache \\\n",
    "    --save_pred\"\"\"\n",
    "\n",
    "commands = []\n",
    "for data, path in datasets.items():\n",
    "\n",
    "    commands.append(base_command.format(data, path))\n",
    "\n",
    "print(\"&&\".join(commands))\n",
    "\n",
    "# print(commands[3])"
   ]
  },
  {
   "cell_type": "code",
   "execution_count": 7,
   "metadata": {},
   "outputs": [
    {
     "name": "stdout",
     "output_type": "stream",
     "text": [
      "python run_eval.py     --task vqa --dataset SLAKE --split test     --image_path /research/d5/gds/yzhong22/datasets/SLAKE/imgs     --model Qwen25-VL --model_path /research/d5/gds/yzhong22/misc/pretrained/Qwen2.5-VL-7B-Instruct     --exp_path /research/d5/gds/yzhong22/experiments/med_vlm_benchmark     --cache_dir /research/d5/gds/yzhong22/misc/cache     --save_pred&&python run_eval.py     --task vqa --dataset VQA-RAD --split test     --image_path None     --model Qwen25-VL --model_path /research/d5/gds/yzhong22/misc/pretrained/Qwen2.5-VL-7B-Instruct     --exp_path /research/d5/gds/yzhong22/experiments/med_vlm_benchmark     --cache_dir /research/d5/gds/yzhong22/misc/cache     --save_pred&&python run_eval.py     --task vqa --dataset Harvard-FairVLMed10k --split test     --image_path /research/d5/gds/yzhong22/datasets/Harvard-FairVLMed10k     --model Qwen25-VL --model_path /research/d5/gds/yzhong22/misc/pretrained/Qwen2.5-VL-7B-Instruct     --exp_path /research/d5/gds/yzhong22/experiments/med_vlm_benchmark     --cache_dir /research/d5/gds/yzhong22/misc/cache     --save_pred\n"
     ]
    }
   ],
   "source": [
    "# qwen25\n",
    "\n",
    "datasets = {\n",
    "    \"SLAKE\": \"/research/d5/gds/yzhong22/datasets/SLAKE/imgs\",\n",
    "    # \"PathVQA\": \"None\",\n",
    "    \"VQA-RAD\": \"None\",\n",
    "    \"Harvard-FairVLMed10k\": \"/research/d5/gds/yzhong22/datasets/Harvard-FairVLMed10k\",\n",
    "}\n",
    "\n",
    "base_command = \"\"\"python run_eval.py \\\n",
    "    --task vqa --dataset {} --split test \\\n",
    "    --image_path {} \\\n",
    "    --model Qwen25-VL --model_path /research/d5/gds/yzhong22/misc/pretrained/Qwen2.5-VL-7B-Instruct \\\n",
    "    --exp_path /research/d5/gds/yzhong22/experiments/med_vlm_benchmark \\\n",
    "    --cache_dir /research/d5/gds/yzhong22/misc/cache \\\n",
    "    --save_pred\"\"\"\n",
    "\n",
    "commands = []\n",
    "for data, path in datasets.items():\n",
    "\n",
    "    commands.append(base_command.format(data, path))\n",
    "\n",
    "print(\"&&\".join(commands))"
   ]
  },
  {
   "cell_type": "code",
   "execution_count": null,
   "metadata": {},
   "outputs": [],
   "source": [
    "# zero-shot eval"
   ]
  }
 ],
 "metadata": {
  "kernelspec": {
   "display_name": "vlmbenchmark",
   "language": "python",
   "name": "python3"
  },
  "language_info": {
   "codemirror_mode": {
    "name": "ipython",
    "version": 3
   },
   "file_extension": ".py",
   "mimetype": "text/x-python",
   "name": "python",
   "nbconvert_exporter": "python",
   "pygments_lexer": "ipython3",
   "version": "3.11.0"
  }
 },
 "nbformat": 4,
 "nbformat_minor": 2
}
