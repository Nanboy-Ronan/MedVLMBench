{
 "cells": [
  {
   "cell_type": "code",
   "execution_count": 11,
   "metadata": {},
   "outputs": [],
   "source": [
    "import os\n",
    "import glob\n",
    "\n",
    "exp_path = \"/research/d5/gds/yzhong22/experiments/med_vlm_benchmark\"\n",
    "exp_path_mirror = \"/media/yesindeed/DATADRIVE1/mount/remote_cse/experiments/med_vlm_benchmark\""
   ]
  },
  {
   "cell_type": "markdown",
   "metadata": {},
   "source": [
    "# TRAIN"
   ]
  },
  {
   "cell_type": "code",
   "execution_count": 8,
   "metadata": {},
   "outputs": [
    {
     "name": "stdout",
     "output_type": "stream",
     "text": [
      "llamafactory-cli export configs/2025-vlmbench/vqa/internvl3/merge_fairvlmed_sft.yaml\n"
     ]
    }
   ],
   "source": [
    "# internvl3\n",
    "\n",
    "datasets = [\n",
    "    \"slake\",\n",
    "    \"pathvqa\",\n",
    "    \"vqa-rad\",\n",
    "    \"fairvlmed\",\n",
    "]\n",
    "\n",
    "base_train_command = \"\"\"llamafactory-cli train configs/2025-vlmbench/vqa/internvl3/train_{}_sft.yaml\"\"\"\n",
    "base_merge_command = \"\"\"llamafactory-cli export configs/2025-vlmbench/vqa/internvl3/merge_{}_sft.yaml\"\"\"\n",
    "\n",
    "commands = []\n",
    "for data in datasets:\n",
    "    commands.append(base_train_command.format(data))\n",
    "\n",
    "for data in datasets:\n",
    "    commands.append(base_merge_command.format(data))\n",
    "\n",
    "print(\"&&\".join(commands[-1:]))"
   ]
  },
  {
   "cell_type": "markdown",
   "metadata": {},
   "source": [
    "# EVAL"
   ]
  },
  {
   "cell_type": "markdown",
   "metadata": {},
   "source": [
    "## zero-shot"
   ]
  },
  {
   "cell_type": "code",
   "execution_count": 9,
   "metadata": {},
   "outputs": [
    {
     "name": "stdout",
     "output_type": "stream",
     "text": [
      "python run_eval.py     --task vqa --dataset SLAKE --split test     --image_path /research/d5/gds/yzhong22/datasets/SLAKE/imgs     --model InternVL3 --model_path /research/d5/gds/yzhong22/misc/pretrained/InternVL3-8B-hf     --exp_path /research/d5/gds/yzhong22/experiments/med_vlm_benchmark     --cache_dir /research/d5/gds/yzhong22/misc/cache     --save_pred&&python run_eval.py     --task vqa --dataset PathVQA --split test     --image_path None     --model InternVL3 --model_path /research/d5/gds/yzhong22/misc/pretrained/InternVL3-8B-hf     --exp_path /research/d5/gds/yzhong22/experiments/med_vlm_benchmark     --cache_dir /research/d5/gds/yzhong22/misc/cache     --save_pred&&python run_eval.py     --task vqa --dataset VQA-RAD --split test     --image_path None     --model InternVL3 --model_path /research/d5/gds/yzhong22/misc/pretrained/InternVL3-8B-hf     --exp_path /research/d5/gds/yzhong22/experiments/med_vlm_benchmark     --cache_dir /research/d5/gds/yzhong22/misc/cache     --save_pred&&python run_eval.py     --task vqa --dataset Harvard-FairVLMed10k --split test     --image_path /research/d5/gds/yzhong22/datasets/Harvard-FairVLMed10k     --model InternVL3 --model_path /research/d5/gds/yzhong22/misc/pretrained/InternVL3-8B-hf     --exp_path /research/d5/gds/yzhong22/experiments/med_vlm_benchmark     --cache_dir /research/d5/gds/yzhong22/misc/cache     --save_pred\n"
     ]
    }
   ],
   "source": [
    "datasets = {\n",
    "    \"SLAKE\": \"/research/d5/gds/yzhong22/datasets/SLAKE/imgs\",\n",
    "    \"PathVQA\": \"None\",\n",
    "    \"VQA-RAD\": \"None\",\n",
    "    \"Harvard-FairVLMed10k\": \"/research/d5/gds/yzhong22/datasets/Harvard-FairVLMed10k\",\n",
    "}\n",
    "\n",
    "base_command = \"\"\"python run_eval.py \\\n",
    "    --task vqa --dataset {} --split test \\\n",
    "    --image_path {} \\\n",
    "    --model InternVL3 --model_path /research/d5/gds/yzhong22/misc/pretrained/InternVL3-8B-hf \\\n",
    "    --exp_path /research/d5/gds/yzhong22/experiments/med_vlm_benchmark \\\n",
    "    --cache_dir /research/d5/gds/yzhong22/misc/cache \\\n",
    "    --save_pred\"\"\"\n",
    "\n",
    "commands = []\n",
    "for data, path in datasets.items():\n",
    "\n",
    "    commands.append(base_command.format(data, path))\n",
    "\n",
    "print(\"&&\".join(commands))\n",
    "\n",
    "# print(commands[3])"
   ]
  },
  {
   "cell_type": "markdown",
   "metadata": {},
   "source": [
    "## tuned"
   ]
  },
  {
   "cell_type": "code",
   "execution_count": 12,
   "metadata": {},
   "outputs": [
    {
     "name": "stdout",
     "output_type": "stream",
     "text": [
      "python run_eval.py     --task vqa --dataset Harvard-FairVLMed10k --split test     --image_path /research/d5/gds/yzhong22/datasets/Harvard-FairVLMed10k     --model InternVL3 --model_path /research/d5/gds/yzhong22/experiments/med_vlm_benchmark/vqa/Harvard-FairVLMed10k/intern-vl-8b-lora-ML-merged     --exp_path /research/d5/gds/yzhong22/experiments/med_vlm_benchmark     --cache_dir /research/d5/gds/yzhong22/misc/cache     --save_pred\n"
     ]
    }
   ],
   "source": [
    "datasets = {\n",
    "    # \"SLAKE\": \"/research/d5/gds/yzhong22/datasets/SLAKE/imgs\",\n",
    "    # \"PathVQA\": \"None\",\n",
    "    # \"VQA-RAD\": \"None\",\n",
    "    \"Harvard-FairVLMed10k\": \"/research/d5/gds/yzhong22/datasets/Harvard-FairVLMed10k\",\n",
    "}\n",
    "\n",
    "base_command = \"\"\"python run_eval.py \\\n",
    "    --task vqa --dataset {} --split test \\\n",
    "    --image_path {} \\\n",
    "    --model InternVL3 --model_path /research/d5/gds/yzhong22/experiments/med_vlm_benchmark/vqa/{}/intern-vl-8b-lora-ML-merged \\\n",
    "    --exp_path /research/d5/gds/yzhong22/experiments/med_vlm_benchmark \\\n",
    "    --cache_dir /research/d5/gds/yzhong22/misc/cache \\\n",
    "    --save_pred\"\"\"\n",
    "\n",
    "commands = []\n",
    "for data, path in datasets.items():\n",
    "\n",
    "    commands.append(base_command.format(data, path, data))\n",
    "\n",
    "print(\"&&\".join(commands))"
   ]
  },
  {
   "cell_type": "code",
   "execution_count": null,
   "metadata": {},
   "outputs": [],
   "source": [
    "python run_eval.py     --task vqa --dataset Harvard-FairVLMed10k --split test     --image_path /research/d5/gds/yzhong22/datasets/Harvard-FairVLMed10k     --model InternVL3 --model_path /research/d5/gds/yzhong22/experiments/med_vlm_benchmark/vqa/Harvard-FairVLMed10k/intern-vl-8b-lora-ML-merged     --exp_path /research/d5/gds/yzhong22/experiments/med_vlm_benchmark     --cache_dir /research/d5/gds/yzhong22/misc/cache     --save_pred && python run_eval.py     --task vqa --dataset Harvard-FairVLMed10k --split test     --image_path /research/d5/gds/yzhong22/datasets/Harvard-FairVLMed10k     --model Gemma3 --model_path /research/d5/gds/yzhong22/experiments/med_vlm_benchmark/vqa/Harvard-FairVLMed10k/gemma-3-4b-it-lora-ML-merged     --exp_path /research/d5/gds/yzhong22/experiments/med_vlm_benchmark     --cache_dir /research/d5/gds/yzhong22/misc/cache     --save_pred\n"
   ]
  }
 ],
 "metadata": {
  "kernelspec": {
   "display_name": "vlmbenchmark",
   "language": "python",
   "name": "python3"
  },
  "language_info": {
   "codemirror_mode": {
    "name": "ipython",
    "version": 3
   },
   "file_extension": ".py",
   "mimetype": "text/x-python",
   "name": "python",
   "nbconvert_exporter": "python",
   "pygments_lexer": "ipython3",
   "version": "3.11.0"
  }
 },
 "nbformat": 4,
 "nbformat_minor": 2
}
