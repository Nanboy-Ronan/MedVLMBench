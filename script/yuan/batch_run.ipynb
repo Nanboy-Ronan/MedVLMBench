{
 "cells": [
  {
   "cell_type": "code",
   "execution_count": 10,
   "metadata": {},
   "outputs": [
    {
     "name": "stdout",
     "output_type": "stream",
     "text": [
      "deepspeed run_train.py     --peft lora --lora_r 128 --lora_alpha 256 --mm_projector_lr 2e-5     --deepspeed ./script/zero3.json     --task vqa --dataset PathVQA     --model LLaVA-1.5 --version v1     --image_path None     --model_path /research/d5/gds/yzhong22/misc/pretrained/llava-v1.5-7b     --mm_projector_type mlp2x_gelu     --mm_vision_select_layer -2     --mm_use_im_start_end False     --mm_use_im_patch_token False     --image_aspect_ratio pad     --group_by_modality_length True     --bf16 True     --output_dir /research/d5/gds/yzhong22/experiments/med_vlm_benchmark     --cache_dir /research/d5/gds/yzhong22/misc/cache     --num_train_epochs 1     --per_device_train_batch_size 16     --per_device_eval_batch_size 4     --gradient_accumulation_steps 1     --evaluation_strategy \"no\"     --save_strategy \"steps\"     --save_steps 50000     --save_total_limit 1     --learning_rate 2e-4     --weight_decay 0.     --warmup_ratio 0.03     --lr_scheduler_type \"cosine\"     --logging_steps 1     --tf32 True     --model_max_length 2048     --gradient_checkpointing True     --dataloader_num_workers 4     --tune_modules L&&deepspeed run_train.py     --peft lora --lora_r 128 --lora_alpha 256 --mm_projector_lr 2e-5     --deepspeed ./script/zero3.json     --task vqa --dataset PathVQA     --model LLaVA-1.5 --version v1     --image_path None     --model_path /research/d5/gds/yzhong22/misc/pretrained/llava-v1.5-7b     --mm_projector_type mlp2x_gelu     --mm_vision_select_layer -2     --mm_use_im_start_end False     --mm_use_im_patch_token False     --image_aspect_ratio pad     --group_by_modality_length True     --bf16 True     --output_dir /research/d5/gds/yzhong22/experiments/med_vlm_benchmark     --cache_dir /research/d5/gds/yzhong22/misc/cache     --num_train_epochs 1     --per_device_train_batch_size 16     --per_device_eval_batch_size 4     --gradient_accumulation_steps 1     --evaluation_strategy \"no\"     --save_strategy \"steps\"     --save_steps 50000     --save_total_limit 1     --learning_rate 2e-4     --weight_decay 0.     --warmup_ratio 0.03     --lr_scheduler_type \"cosine\"     --logging_steps 1     --tf32 True     --model_max_length 2048     --gradient_checkpointing True     --dataloader_num_workers 4     --tune_modules M&&deepspeed run_train.py     --peft lora --lora_r 128 --lora_alpha 256 --mm_projector_lr 2e-5     --deepspeed ./script/zero3.json     --task vqa --dataset PathVQA     --model LLaVA-1.5 --version v1     --image_path None     --model_path /research/d5/gds/yzhong22/misc/pretrained/llava-v1.5-7b     --mm_projector_type mlp2x_gelu     --mm_vision_select_layer -2     --mm_use_im_start_end False     --mm_use_im_patch_token False     --image_aspect_ratio pad     --group_by_modality_length True     --bf16 True     --output_dir /research/d5/gds/yzhong22/experiments/med_vlm_benchmark     --cache_dir /research/d5/gds/yzhong22/misc/cache     --num_train_epochs 1     --per_device_train_batch_size 16     --per_device_eval_batch_size 4     --gradient_accumulation_steps 1     --evaluation_strategy \"no\"     --save_strategy \"steps\"     --save_steps 50000     --save_total_limit 1     --learning_rate 2e-4     --weight_decay 0.     --warmup_ratio 0.03     --lr_scheduler_type \"cosine\"     --logging_steps 1     --tf32 True     --model_max_length 2048     --gradient_checkpointing True     --dataloader_num_workers 4     --tune_modules ML&&deepspeed run_train.py     --peft lora --lora_r 128 --lora_alpha 256 --mm_projector_lr 2e-5     --deepspeed ./script/zero3.json     --task vqa --dataset PathVQA     --model LLaVA-1.5 --version v1     --image_path None     --model_path /research/d5/gds/yzhong22/misc/pretrained/llava-v1.5-7b     --mm_projector_type mlp2x_gelu     --mm_vision_select_layer -2     --mm_use_im_start_end False     --mm_use_im_patch_token False     --image_aspect_ratio pad     --group_by_modality_length True     --bf16 True     --output_dir /research/d5/gds/yzhong22/experiments/med_vlm_benchmark     --cache_dir /research/d5/gds/yzhong22/misc/cache     --num_train_epochs 1     --per_device_train_batch_size 16     --per_device_eval_batch_size 4     --gradient_accumulation_steps 1     --evaluation_strategy \"no\"     --save_strategy \"steps\"     --save_steps 50000     --save_total_limit 1     --learning_rate 2e-4     --weight_decay 0.     --warmup_ratio 0.03     --lr_scheduler_type \"cosine\"     --logging_steps 1     --tf32 True     --model_max_length 2048     --gradient_checkpointing True     --dataloader_num_workers 4     --tune_modules VLM&&deepspeed run_train.py     --peft lora --lora_r 128 --lora_alpha 256 --mm_projector_lr 2e-5     --deepspeed ./script/zero3.json     --task vqa --dataset PathVQA     --model LLaVA-1.5 --version v1     --image_path None     --model_path /research/d5/gds/yzhong22/misc/pretrained/llava-v1.5-7b     --mm_projector_type mlp2x_gelu     --mm_vision_select_layer -2     --mm_use_im_start_end False     --mm_use_im_patch_token False     --image_aspect_ratio pad     --group_by_modality_length True     --bf16 True     --output_dir /research/d5/gds/yzhong22/experiments/med_vlm_benchmark     --cache_dir /research/d5/gds/yzhong22/misc/cache     --num_train_epochs 1     --per_device_train_batch_size 16     --per_device_eval_batch_size 4     --gradient_accumulation_steps 1     --evaluation_strategy \"no\"     --save_strategy \"steps\"     --save_steps 50000     --save_total_limit 1     --learning_rate 2e-4     --weight_decay 0.     --warmup_ratio 0.03     --lr_scheduler_type \"cosine\"     --logging_steps 1     --tf32 True     --model_max_length 2048     --gradient_checkpointing True     --dataloader_num_workers 4     --tune_modules VM&&deepspeed run_train.py     --peft lora --lora_r 128 --lora_alpha 256 --mm_projector_lr 2e-5     --deepspeed ./script/zero3.json     --task vqa --dataset VQA-RAD     --model LLaVA-1.5 --version v1     --image_path None     --model_path /research/d5/gds/yzhong22/misc/pretrained/llava-v1.5-7b     --mm_projector_type mlp2x_gelu     --mm_vision_select_layer -2     --mm_use_im_start_end False     --mm_use_im_patch_token False     --image_aspect_ratio pad     --group_by_modality_length True     --bf16 True     --output_dir /research/d5/gds/yzhong22/experiments/med_vlm_benchmark     --cache_dir /research/d5/gds/yzhong22/misc/cache     --num_train_epochs 1     --per_device_train_batch_size 16     --per_device_eval_batch_size 4     --gradient_accumulation_steps 1     --evaluation_strategy \"no\"     --save_strategy \"steps\"     --save_steps 50000     --save_total_limit 1     --learning_rate 2e-4     --weight_decay 0.     --warmup_ratio 0.03     --lr_scheduler_type \"cosine\"     --logging_steps 1     --tf32 True     --model_max_length 2048     --gradient_checkpointing True     --dataloader_num_workers 4     --tune_modules L&&deepspeed run_train.py     --peft lora --lora_r 128 --lora_alpha 256 --mm_projector_lr 2e-5     --deepspeed ./script/zero3.json     --task vqa --dataset VQA-RAD     --model LLaVA-1.5 --version v1     --image_path None     --model_path /research/d5/gds/yzhong22/misc/pretrained/llava-v1.5-7b     --mm_projector_type mlp2x_gelu     --mm_vision_select_layer -2     --mm_use_im_start_end False     --mm_use_im_patch_token False     --image_aspect_ratio pad     --group_by_modality_length True     --bf16 True     --output_dir /research/d5/gds/yzhong22/experiments/med_vlm_benchmark     --cache_dir /research/d5/gds/yzhong22/misc/cache     --num_train_epochs 1     --per_device_train_batch_size 16     --per_device_eval_batch_size 4     --gradient_accumulation_steps 1     --evaluation_strategy \"no\"     --save_strategy \"steps\"     --save_steps 50000     --save_total_limit 1     --learning_rate 2e-4     --weight_decay 0.     --warmup_ratio 0.03     --lr_scheduler_type \"cosine\"     --logging_steps 1     --tf32 True     --model_max_length 2048     --gradient_checkpointing True     --dataloader_num_workers 4     --tune_modules M&&deepspeed run_train.py     --peft lora --lora_r 128 --lora_alpha 256 --mm_projector_lr 2e-5     --deepspeed ./script/zero3.json     --task vqa --dataset VQA-RAD     --model LLaVA-1.5 --version v1     --image_path None     --model_path /research/d5/gds/yzhong22/misc/pretrained/llava-v1.5-7b     --mm_projector_type mlp2x_gelu     --mm_vision_select_layer -2     --mm_use_im_start_end False     --mm_use_im_patch_token False     --image_aspect_ratio pad     --group_by_modality_length True     --bf16 True     --output_dir /research/d5/gds/yzhong22/experiments/med_vlm_benchmark     --cache_dir /research/d5/gds/yzhong22/misc/cache     --num_train_epochs 1     --per_device_train_batch_size 16     --per_device_eval_batch_size 4     --gradient_accumulation_steps 1     --evaluation_strategy \"no\"     --save_strategy \"steps\"     --save_steps 50000     --save_total_limit 1     --learning_rate 2e-4     --weight_decay 0.     --warmup_ratio 0.03     --lr_scheduler_type \"cosine\"     --logging_steps 1     --tf32 True     --model_max_length 2048     --gradient_checkpointing True     --dataloader_num_workers 4     --tune_modules ML&&deepspeed run_train.py     --peft lora --lora_r 128 --lora_alpha 256 --mm_projector_lr 2e-5     --deepspeed ./script/zero3.json     --task vqa --dataset VQA-RAD     --model LLaVA-1.5 --version v1     --image_path None     --model_path /research/d5/gds/yzhong22/misc/pretrained/llava-v1.5-7b     --mm_projector_type mlp2x_gelu     --mm_vision_select_layer -2     --mm_use_im_start_end False     --mm_use_im_patch_token False     --image_aspect_ratio pad     --group_by_modality_length True     --bf16 True     --output_dir /research/d5/gds/yzhong22/experiments/med_vlm_benchmark     --cache_dir /research/d5/gds/yzhong22/misc/cache     --num_train_epochs 1     --per_device_train_batch_size 16     --per_device_eval_batch_size 4     --gradient_accumulation_steps 1     --evaluation_strategy \"no\"     --save_strategy \"steps\"     --save_steps 50000     --save_total_limit 1     --learning_rate 2e-4     --weight_decay 0.     --warmup_ratio 0.03     --lr_scheduler_type \"cosine\"     --logging_steps 1     --tf32 True     --model_max_length 2048     --gradient_checkpointing True     --dataloader_num_workers 4     --tune_modules VLM&&deepspeed run_train.py     --peft lora --lora_r 128 --lora_alpha 256 --mm_projector_lr 2e-5     --deepspeed ./script/zero3.json     --task vqa --dataset VQA-RAD     --model LLaVA-1.5 --version v1     --image_path None     --model_path /research/d5/gds/yzhong22/misc/pretrained/llava-v1.5-7b     --mm_projector_type mlp2x_gelu     --mm_vision_select_layer -2     --mm_use_im_start_end False     --mm_use_im_patch_token False     --image_aspect_ratio pad     --group_by_modality_length True     --bf16 True     --output_dir /research/d5/gds/yzhong22/experiments/med_vlm_benchmark     --cache_dir /research/d5/gds/yzhong22/misc/cache     --num_train_epochs 1     --per_device_train_batch_size 16     --per_device_eval_batch_size 4     --gradient_accumulation_steps 1     --evaluation_strategy \"no\"     --save_strategy \"steps\"     --save_steps 50000     --save_total_limit 1     --learning_rate 2e-4     --weight_decay 0.     --warmup_ratio 0.03     --lr_scheduler_type \"cosine\"     --logging_steps 1     --tf32 True     --model_max_length 2048     --gradient_checkpointing True     --dataloader_num_workers 4     --tune_modules VM\n"
     ]
    }
   ],
   "source": [
    "# LLaVA\n",
    "\n",
    "tune_modules = [\"L\", \"M\", \"ML\", \"VLM\", \"VM\"]\n",
    "\n",
    "datasets = {\"SLAKE\": \"/research/d5/gds/yzhong22/datasets/SLAKE/imgs\", \"PathVQA\": \"None\", \"VQA-RAD\": \"None\"}\n",
    "\n",
    "base_command = \"\"\"deepspeed run_train.py \\\n",
    "    --peft lora --lora_r 128 --lora_alpha 256 --mm_projector_lr 2e-5 \\\n",
    "    --deepspeed ./script/zero3.json \\\n",
    "    --task vqa --dataset {} \\\n",
    "    --model LLaVA-1.5 --version v1 \\\n",
    "    --image_path {} \\\n",
    "    --model_path /research/d5/gds/yzhong22/misc/pretrained/llava-v1.5-7b \\\n",
    "    --mm_projector_type mlp2x_gelu \\\n",
    "    --mm_vision_select_layer -2 \\\n",
    "    --mm_use_im_start_end False \\\n",
    "    --mm_use_im_patch_token False \\\n",
    "    --image_aspect_ratio pad \\\n",
    "    --group_by_modality_length True \\\n",
    "    --bf16 True \\\n",
    "    --output_dir /research/d5/gds/yzhong22/experiments/med_vlm_benchmark \\\n",
    "    --cache_dir /research/d5/gds/yzhong22/misc/cache \\\n",
    "    --num_train_epochs 1 \\\n",
    "    --per_device_train_batch_size 16 \\\n",
    "    --per_device_eval_batch_size 4 \\\n",
    "    --gradient_accumulation_steps 1 \\\n",
    "    --evaluation_strategy \"no\" \\\n",
    "    --save_strategy \"steps\" \\\n",
    "    --save_steps 50000 \\\n",
    "    --save_total_limit 1 \\\n",
    "    --learning_rate 2e-4 \\\n",
    "    --weight_decay 0. \\\n",
    "    --warmup_ratio 0.03 \\\n",
    "    --lr_scheduler_type \"cosine\" \\\n",
    "    --logging_steps 1 \\\n",
    "    --tf32 True \\\n",
    "    --model_max_length 2048 \\\n",
    "    --gradient_checkpointing True \\\n",
    "    --dataloader_num_workers 4 \\\n",
    "    --tune_modules {}\"\"\"\n",
    "\n",
    "commands = []\n",
    "\n",
    "for data, path in datasets.items():\n",
    "    for tm in tune_modules:\n",
    "        commands.append(base_command.format(data, path, tm))\n",
    "\n",
    "print(\"&&\".join(commands[5:]))"
   ]
  },
  {
   "cell_type": "code",
   "execution_count": 13,
   "metadata": {},
   "outputs": [
    {
     "name": "stdout",
     "output_type": "stream",
     "text": [
      "deepspeed run_train.py     --peft lora --lora_r 128 --lora_alpha 256 --mm_projector_lr 2e-5     --deepspeed ./script/zero3.json     --task vqa --dataset PathVQA     --model LLaVA-Med --version mistral_instruct     --image_path None     --model_path /research/d5/gds/yzhong22/misc/pretrained/llava-med-v1.5-mistral-7b     --mm_projector_type mlp2x_gelu     --mm_vision_select_layer -2     --mm_use_im_start_end False     --mm_use_im_patch_token False     --image_aspect_ratio pad     --group_by_modality_length True     --bf16 True     --output_dir /research/d5/gds/yzhong22/experiments/med_vlm_benchmark     --cache_dir /research/d5/gds/yzhong22/misc/cache     --num_train_epochs 1     --per_device_train_batch_size 2     --per_device_eval_batch_size 4     --gradient_accumulation_steps 8     --evaluation_strategy \"no\"     --save_strategy \"steps\"     --save_steps 50000     --save_total_limit 1     --learning_rate 2e-4     --weight_decay 0.     --warmup_ratio 0.03     --lr_scheduler_type \"cosine\"     --logging_steps 1     --tf32 True     --model_max_length 2048     --gradient_checkpointing True     --dataloader_num_workers 4     --tune_modules M&&deepspeed run_train.py     --peft lora --lora_r 128 --lora_alpha 256 --mm_projector_lr 2e-5     --deepspeed ./script/zero3.json     --task vqa --dataset PathVQA     --model LLaVA-Med --version mistral_instruct     --image_path None     --model_path /research/d5/gds/yzhong22/misc/pretrained/llava-med-v1.5-mistral-7b     --mm_projector_type mlp2x_gelu     --mm_vision_select_layer -2     --mm_use_im_start_end False     --mm_use_im_patch_token False     --image_aspect_ratio pad     --group_by_modality_length True     --bf16 True     --output_dir /research/d5/gds/yzhong22/experiments/med_vlm_benchmark     --cache_dir /research/d5/gds/yzhong22/misc/cache     --num_train_epochs 1     --per_device_train_batch_size 2     --per_device_eval_batch_size 4     --gradient_accumulation_steps 8     --evaluation_strategy \"no\"     --save_strategy \"steps\"     --save_steps 50000     --save_total_limit 1     --learning_rate 2e-4     --weight_decay 0.     --warmup_ratio 0.03     --lr_scheduler_type \"cosine\"     --logging_steps 1     --tf32 True     --model_max_length 2048     --gradient_checkpointing True     --dataloader_num_workers 4     --tune_modules ML&&deepspeed run_train.py     --peft lora --lora_r 128 --lora_alpha 256 --mm_projector_lr 2e-5     --deepspeed ./script/zero3.json     --task vqa --dataset PathVQA     --model LLaVA-Med --version mistral_instruct     --image_path None     --model_path /research/d5/gds/yzhong22/misc/pretrained/llava-med-v1.5-mistral-7b     --mm_projector_type mlp2x_gelu     --mm_vision_select_layer -2     --mm_use_im_start_end False     --mm_use_im_patch_token False     --image_aspect_ratio pad     --group_by_modality_length True     --bf16 True     --output_dir /research/d5/gds/yzhong22/experiments/med_vlm_benchmark     --cache_dir /research/d5/gds/yzhong22/misc/cache     --num_train_epochs 1     --per_device_train_batch_size 2     --per_device_eval_batch_size 4     --gradient_accumulation_steps 8     --evaluation_strategy \"no\"     --save_strategy \"steps\"     --save_steps 50000     --save_total_limit 1     --learning_rate 2e-4     --weight_decay 0.     --warmup_ratio 0.03     --lr_scheduler_type \"cosine\"     --logging_steps 1     --tf32 True     --model_max_length 2048     --gradient_checkpointing True     --dataloader_num_workers 4     --tune_modules VLM&&deepspeed run_train.py     --peft lora --lora_r 128 --lora_alpha 256 --mm_projector_lr 2e-5     --deepspeed ./script/zero3.json     --task vqa --dataset PathVQA     --model LLaVA-Med --version mistral_instruct     --image_path None     --model_path /research/d5/gds/yzhong22/misc/pretrained/llava-med-v1.5-mistral-7b     --mm_projector_type mlp2x_gelu     --mm_vision_select_layer -2     --mm_use_im_start_end False     --mm_use_im_patch_token False     --image_aspect_ratio pad     --group_by_modality_length True     --bf16 True     --output_dir /research/d5/gds/yzhong22/experiments/med_vlm_benchmark     --cache_dir /research/d5/gds/yzhong22/misc/cache     --num_train_epochs 1     --per_device_train_batch_size 2     --per_device_eval_batch_size 4     --gradient_accumulation_steps 8     --evaluation_strategy \"no\"     --save_strategy \"steps\"     --save_steps 50000     --save_total_limit 1     --learning_rate 2e-4     --weight_decay 0.     --warmup_ratio 0.03     --lr_scheduler_type \"cosine\"     --logging_steps 1     --tf32 True     --model_max_length 2048     --gradient_checkpointing True     --dataloader_num_workers 4     --tune_modules VM&&deepspeed run_train.py     --peft lora --lora_r 128 --lora_alpha 256 --mm_projector_lr 2e-5     --deepspeed ./script/zero3.json     --task vqa --dataset VQA-RAD     --model LLaVA-Med --version mistral_instruct     --image_path None     --model_path /research/d5/gds/yzhong22/misc/pretrained/llava-med-v1.5-mistral-7b     --mm_projector_type mlp2x_gelu     --mm_vision_select_layer -2     --mm_use_im_start_end False     --mm_use_im_patch_token False     --image_aspect_ratio pad     --group_by_modality_length True     --bf16 True     --output_dir /research/d5/gds/yzhong22/experiments/med_vlm_benchmark     --cache_dir /research/d5/gds/yzhong22/misc/cache     --num_train_epochs 1     --per_device_train_batch_size 2     --per_device_eval_batch_size 4     --gradient_accumulation_steps 8     --evaluation_strategy \"no\"     --save_strategy \"steps\"     --save_steps 50000     --save_total_limit 1     --learning_rate 2e-4     --weight_decay 0.     --warmup_ratio 0.03     --lr_scheduler_type \"cosine\"     --logging_steps 1     --tf32 True     --model_max_length 2048     --gradient_checkpointing True     --dataloader_num_workers 4     --tune_modules L&&deepspeed run_train.py     --peft lora --lora_r 128 --lora_alpha 256 --mm_projector_lr 2e-5     --deepspeed ./script/zero3.json     --task vqa --dataset VQA-RAD     --model LLaVA-Med --version mistral_instruct     --image_path None     --model_path /research/d5/gds/yzhong22/misc/pretrained/llava-med-v1.5-mistral-7b     --mm_projector_type mlp2x_gelu     --mm_vision_select_layer -2     --mm_use_im_start_end False     --mm_use_im_patch_token False     --image_aspect_ratio pad     --group_by_modality_length True     --bf16 True     --output_dir /research/d5/gds/yzhong22/experiments/med_vlm_benchmark     --cache_dir /research/d5/gds/yzhong22/misc/cache     --num_train_epochs 1     --per_device_train_batch_size 2     --per_device_eval_batch_size 4     --gradient_accumulation_steps 8     --evaluation_strategy \"no\"     --save_strategy \"steps\"     --save_steps 50000     --save_total_limit 1     --learning_rate 2e-4     --weight_decay 0.     --warmup_ratio 0.03     --lr_scheduler_type \"cosine\"     --logging_steps 1     --tf32 True     --model_max_length 2048     --gradient_checkpointing True     --dataloader_num_workers 4     --tune_modules M&&deepspeed run_train.py     --peft lora --lora_r 128 --lora_alpha 256 --mm_projector_lr 2e-5     --deepspeed ./script/zero3.json     --task vqa --dataset VQA-RAD     --model LLaVA-Med --version mistral_instruct     --image_path None     --model_path /research/d5/gds/yzhong22/misc/pretrained/llava-med-v1.5-mistral-7b     --mm_projector_type mlp2x_gelu     --mm_vision_select_layer -2     --mm_use_im_start_end False     --mm_use_im_patch_token False     --image_aspect_ratio pad     --group_by_modality_length True     --bf16 True     --output_dir /research/d5/gds/yzhong22/experiments/med_vlm_benchmark     --cache_dir /research/d5/gds/yzhong22/misc/cache     --num_train_epochs 1     --per_device_train_batch_size 2     --per_device_eval_batch_size 4     --gradient_accumulation_steps 8     --evaluation_strategy \"no\"     --save_strategy \"steps\"     --save_steps 50000     --save_total_limit 1     --learning_rate 2e-4     --weight_decay 0.     --warmup_ratio 0.03     --lr_scheduler_type \"cosine\"     --logging_steps 1     --tf32 True     --model_max_length 2048     --gradient_checkpointing True     --dataloader_num_workers 4     --tune_modules ML&&deepspeed run_train.py     --peft lora --lora_r 128 --lora_alpha 256 --mm_projector_lr 2e-5     --deepspeed ./script/zero3.json     --task vqa --dataset VQA-RAD     --model LLaVA-Med --version mistral_instruct     --image_path None     --model_path /research/d5/gds/yzhong22/misc/pretrained/llava-med-v1.5-mistral-7b     --mm_projector_type mlp2x_gelu     --mm_vision_select_layer -2     --mm_use_im_start_end False     --mm_use_im_patch_token False     --image_aspect_ratio pad     --group_by_modality_length True     --bf16 True     --output_dir /research/d5/gds/yzhong22/experiments/med_vlm_benchmark     --cache_dir /research/d5/gds/yzhong22/misc/cache     --num_train_epochs 1     --per_device_train_batch_size 2     --per_device_eval_batch_size 4     --gradient_accumulation_steps 8     --evaluation_strategy \"no\"     --save_strategy \"steps\"     --save_steps 50000     --save_total_limit 1     --learning_rate 2e-4     --weight_decay 0.     --warmup_ratio 0.03     --lr_scheduler_type \"cosine\"     --logging_steps 1     --tf32 True     --model_max_length 2048     --gradient_checkpointing True     --dataloader_num_workers 4     --tune_modules VLM&&deepspeed run_train.py     --peft lora --lora_r 128 --lora_alpha 256 --mm_projector_lr 2e-5     --deepspeed ./script/zero3.json     --task vqa --dataset VQA-RAD     --model LLaVA-Med --version mistral_instruct     --image_path None     --model_path /research/d5/gds/yzhong22/misc/pretrained/llava-med-v1.5-mistral-7b     --mm_projector_type mlp2x_gelu     --mm_vision_select_layer -2     --mm_use_im_start_end False     --mm_use_im_patch_token False     --image_aspect_ratio pad     --group_by_modality_length True     --bf16 True     --output_dir /research/d5/gds/yzhong22/experiments/med_vlm_benchmark     --cache_dir /research/d5/gds/yzhong22/misc/cache     --num_train_epochs 1     --per_device_train_batch_size 2     --per_device_eval_batch_size 4     --gradient_accumulation_steps 8     --evaluation_strategy \"no\"     --save_strategy \"steps\"     --save_steps 50000     --save_total_limit 1     --learning_rate 2e-4     --weight_decay 0.     --warmup_ratio 0.03     --lr_scheduler_type \"cosine\"     --logging_steps 1     --tf32 True     --model_max_length 2048     --gradient_checkpointing True     --dataloader_num_workers 4     --tune_modules VM\n"
     ]
    }
   ],
   "source": [
    "# LLaVA-Med\n",
    "\n",
    "tune_modules = [\"L\", \"M\", \"ML\", \"VLM\", \"VM\"]\n",
    "\n",
    "datasets = {\"SLAKE\": \"/research/d5/gds/yzhong22/datasets/SLAKE/imgs\",\n",
    "            \"PathVQA\": \"None\", \"VQA-RAD\": \"None\"}\n",
    "\n",
    "base_command = \"\"\"deepspeed run_train.py \\\n",
    "    --peft lora --lora_r 128 --lora_alpha 256 --mm_projector_lr 2e-5 \\\n",
    "    --deepspeed ./script/zero3.json \\\n",
    "    --task vqa --dataset {} \\\n",
    "    --model LLaVA-Med --version mistral_instruct \\\n",
    "    --image_path {} \\\n",
    "    --model_path /research/d5/gds/yzhong22/misc/pretrained/llava-med-v1.5-mistral-7b \\\n",
    "    --mm_projector_type mlp2x_gelu \\\n",
    "    --mm_vision_select_layer -2 \\\n",
    "    --mm_use_im_start_end False \\\n",
    "    --mm_use_im_patch_token False \\\n",
    "    --image_aspect_ratio pad \\\n",
    "    --group_by_modality_length True \\\n",
    "    --bf16 True \\\n",
    "    --output_dir /research/d5/gds/yzhong22/experiments/med_vlm_benchmark \\\n",
    "    --cache_dir /research/d5/gds/yzhong22/misc/cache \\\n",
    "    --num_train_epochs 1 \\\n",
    "    --per_device_train_batch_size 2 \\\n",
    "    --per_device_eval_batch_size 4 \\\n",
    "    --gradient_accumulation_steps 8 \\\n",
    "    --evaluation_strategy \"no\" \\\n",
    "    --save_strategy \"steps\" \\\n",
    "    --save_steps 50000 \\\n",
    "    --save_total_limit 1 \\\n",
    "    --learning_rate 2e-4 \\\n",
    "    --weight_decay 0. \\\n",
    "    --warmup_ratio 0.03 \\\n",
    "    --lr_scheduler_type \"cosine\" \\\n",
    "    --logging_steps 1 \\\n",
    "    --tf32 True \\\n",
    "    --model_max_length 2048 \\\n",
    "    --gradient_checkpointing True \\\n",
    "    --dataloader_num_workers 4 \\\n",
    "    --tune_modules {}\"\"\"\n",
    "\n",
    "\n",
    "commands = []\n",
    "\n",
    "for data, path in datasets.items():\n",
    "    for tm in tune_modules:\n",
    "        commands.append(base_command.format(data, path, tm))\n",
    "\n",
    "print(\"&&\".join(commands[6:]))"
   ]
  },
  {
   "cell_type": "code",
   "execution_count": null,
   "metadata": {},
   "outputs": [],
   "source": []
  }
 ],
 "metadata": {
  "kernelspec": {
   "display_name": "vlmbenchmark",
   "language": "python",
   "name": "python3"
  },
  "language_info": {
   "codemirror_mode": {
    "name": "ipython",
    "version": 3
   },
   "file_extension": ".py",
   "mimetype": "text/x-python",
   "name": "python",
   "nbconvert_exporter": "python",
   "pygments_lexer": "ipython3",
   "version": "3.11.0"
  }
 },
 "nbformat": 4,
 "nbformat_minor": 2
}
