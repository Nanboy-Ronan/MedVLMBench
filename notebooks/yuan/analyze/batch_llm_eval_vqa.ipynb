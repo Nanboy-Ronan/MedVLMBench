{
 "cells": [
  {
   "cell_type": "code",
   "execution_count": 2,
   "metadata": {},
   "outputs": [],
   "source": [
    "import os\n",
    "import glob"
   ]
  },
  {
   "cell_type": "code",
   "execution_count": 10,
   "metadata": {},
   "outputs": [
    {
     "name": "stdout",
     "output_type": "stream",
     "text": [
      "python llm_evaluate_vqa_open.py -f /research/d5/gds/yzhong22/experiments/med_vlm_benchmark/vqa/SLAKE/LLaVA-1.5/eval_seed0/train_llava_lora_L_seed42&&python llm_evaluate_vqa_open.py -f /research/d5/gds/yzhong22/experiments/med_vlm_benchmark/vqa/SLAKE/LLaVA-1.5/eval_seed0/train_lora_VML_seed42_llava&&python llm_evaluate_vqa_open.py -f /research/d5/gds/yzhong22/experiments/med_vlm_benchmark/vqa/SLAKE/LLaVA-1.5/eval_seed0/train__M_seed42_llava&&python llm_evaluate_vqa_open.py -f /research/d5/gds/yzhong22/experiments/med_vlm_benchmark/vqa/SLAKE/LLaVA-1.5/eval_seed0/train_lora_L_seed42_llava&&python llm_evaluate_vqa_open.py -f /research/d5/gds/yzhong22/experiments/med_vlm_benchmark/vqa/SLAKE/LLaVA-1.5/eval_seed0/train_lora_ML_seed42_llava&&python llm_evaluate_vqa_open.py -f /research/d5/gds/yzhong22/experiments/med_vlm_benchmark/vqa/SLAKE/LLaVA-1.5/eval_seed0/train_lora_VLM_seed42_llava&&python llm_evaluate_vqa_open.py -f /research/d5/gds/yzhong22/experiments/med_vlm_benchmark/vqa/SLAKE/LLaVA-1.5/eval_seed0/train_lora_VM_seed42_llava&&python llm_evaluate_vqa_open.py -f /research/d5/gds/yzhong22/experiments/med_vlm_benchmark/vqa/SLAKE/LLaVA-1.5/eval_seed0/train_lora_V_seed42_llava&&python llm_evaluate_vqa_open.py -f /research/d5/gds/yzhong22/experiments/med_vlm_benchmark/vqa/SLAKE/LLaVA-Med/eval_seed0/train_lora_L_seed42_llava_mistral&&python llm_evaluate_vqa_open.py -f /research/d5/gds/yzhong22/experiments/med_vlm_benchmark/vqa/SLAKE/LLaVA-Med/eval_seed0/train__M_seed42_llava_mistral&&python llm_evaluate_vqa_open.py -f /research/d5/gds/yzhong22/experiments/med_vlm_benchmark/vqa/SLAKE/LLaVA-Med/eval_seed0/train_lora_ML_seed42_llava_mistral&&python llm_evaluate_vqa_open.py -f /research/d5/gds/yzhong22/experiments/med_vlm_benchmark/vqa/SLAKE/LLaVA-Med/eval_seed0/train_lora_VM_seed42_llava_mistral&&python llm_evaluate_vqa_open.py -f /research/d5/gds/yzhong22/experiments/med_vlm_benchmark/vqa/SLAKE/LLaVA-Med/eval_seed0/train_lora_V_seed42_llava_mistral&&python llm_evaluate_vqa_open.py -f /research/d5/gds/yzhong22/experiments/med_vlm_benchmark/vqa/SLAKE/LLaVA-Med/eval_seed0/train_lora_VLM_seed42_llava_mistral&&python llm_evaluate_vqa_open.py -f /research/d5/gds/yzhong22/experiments/med_vlm_benchmark/vqa/SLAKE/LLaVA-Med/eval_seed0/train_lora_ML_seed42_llava_mistral_backup&&python llm_evaluate_vqa_open.py -f /research/d5/gds/yzhong22/experiments/med_vlm_benchmark/vqa/SLAKE/LLaVA-Med/eval_seed0/train__M_seed42_llava_mistral_backup&&python llm_evaluate_vqa_open.py -f /research/d5/gds/yzhong22/experiments/med_vlm_benchmark/vqa/PathVQA/LLaVA-1.5/eval_seed0/train_lora_L_seed42_llava&&python llm_evaluate_vqa_open.py -f /research/d5/gds/yzhong22/experiments/med_vlm_benchmark/vqa/PathVQA/LLaVA-1.5/eval_seed0/train__M_seed42_llava&&python llm_evaluate_vqa_open.py -f /research/d5/gds/yzhong22/experiments/med_vlm_benchmark/vqa/PathVQA/LLaVA-1.5/eval_seed0/train_lora_ML_seed42_llava&&python llm_evaluate_vqa_open.py -f /research/d5/gds/yzhong22/experiments/med_vlm_benchmark/vqa/PathVQA/LLaVA-1.5/eval_seed0/train_lora_VLM_seed42_llava&&python llm_evaluate_vqa_open.py -f /research/d5/gds/yzhong22/experiments/med_vlm_benchmark/vqa/PathVQA/LLaVA-1.5/eval_seed0/train_lora_VM_seed42_llava&&python llm_evaluate_vqa_open.py -f /research/d5/gds/yzhong22/experiments/med_vlm_benchmark/vqa/PathVQA/LLaVA-1.5/eval_seed0/train_lora_V_seed42_llava&&python llm_evaluate_vqa_open.py -f /research/d5/gds/yzhong22/experiments/med_vlm_benchmark/vqa/PathVQA/LLaVA-Med/eval_seed0/train_lora_L_seed42_llava_mistral&&python llm_evaluate_vqa_open.py -f /research/d5/gds/yzhong22/experiments/med_vlm_benchmark/vqa/PathVQA/LLaVA-Med/eval_seed0/train__M_seed42_llava_mistral&&python llm_evaluate_vqa_open.py -f /research/d5/gds/yzhong22/experiments/med_vlm_benchmark/vqa/PathVQA/LLaVA-Med/eval_seed0/train_lora_ML_seed42_llava_mistral&&python llm_evaluate_vqa_open.py -f /research/d5/gds/yzhong22/experiments/med_vlm_benchmark/vqa/PathVQA/LLaVA-Med/eval_seed0/train_lora_VLM_seed42_llava_mistral&&python llm_evaluate_vqa_open.py -f /research/d5/gds/yzhong22/experiments/med_vlm_benchmark/vqa/PathVQA/LLaVA-Med/eval_seed0/train_lora_VM_seed42_llava_mistral&&python llm_evaluate_vqa_open.py -f /research/d5/gds/yzhong22/experiments/med_vlm_benchmark/vqa/PathVQA/LLaVA-Med/eval_seed0/train_lora_V_seed42_llava_mistral&&python llm_evaluate_vqa_open.py -f /research/d5/gds/yzhong22/experiments/med_vlm_benchmark/vqa/VQA-RAD/LLaVA-1.5_1epoch/eval_seed0/train_lora_L_seed42_llava&&python llm_evaluate_vqa_open.py -f /research/d5/gds/yzhong22/experiments/med_vlm_benchmark/vqa/VQA-RAD/LLaVA-1.5_1epoch/eval_seed0/train__M_seed42_llava&&python llm_evaluate_vqa_open.py -f /research/d5/gds/yzhong22/experiments/med_vlm_benchmark/vqa/VQA-RAD/LLaVA-1.5_1epoch/eval_seed0/train_lora_ML_seed42_llava&&python llm_evaluate_vqa_open.py -f /research/d5/gds/yzhong22/experiments/med_vlm_benchmark/vqa/VQA-RAD/LLaVA-1.5_1epoch/eval_seed0/train_lora_VLM_seed42_llava&&python llm_evaluate_vqa_open.py -f /research/d5/gds/yzhong22/experiments/med_vlm_benchmark/vqa/VQA-RAD/LLaVA-1.5_1epoch/eval_seed0/train_lora_VM_seed42_llava&&python llm_evaluate_vqa_open.py -f /research/d5/gds/yzhong22/experiments/med_vlm_benchmark/vqa/VQA-RAD/LLaVA-1.5_1epoch/eval_seed0/train_lora_V_seed42_llava&&python llm_evaluate_vqa_open.py -f /research/d5/gds/yzhong22/experiments/med_vlm_benchmark/vqa/VQA-RAD/LLaVA-1.5/eval_seed0/train_lora_L_seed42_llava&&python llm_evaluate_vqa_open.py -f /research/d5/gds/yzhong22/experiments/med_vlm_benchmark/vqa/VQA-RAD/LLaVA-1.5/eval_seed0/train_lora_ML_seed42_llava&&python llm_evaluate_vqa_open.py -f /research/d5/gds/yzhong22/experiments/med_vlm_benchmark/vqa/VQA-RAD/LLaVA-1.5/eval_seed0/train__M_seed42_llava&&python llm_evaluate_vqa_open.py -f /research/d5/gds/yzhong22/experiments/med_vlm_benchmark/vqa/VQA-RAD/LLaVA-1.5/eval_seed0/train_lora_VLM_seed42_llava&&python llm_evaluate_vqa_open.py -f /research/d5/gds/yzhong22/experiments/med_vlm_benchmark/vqa/VQA-RAD/LLaVA-1.5/eval_seed0/train_lora_VM_seed42_llava&&python llm_evaluate_vqa_open.py -f /research/d5/gds/yzhong22/experiments/med_vlm_benchmark/vqa/VQA-RAD/LLaVA-1.5/eval_seed0/train_lora_V_seed42_llava&&python llm_evaluate_vqa_open.py -f /research/d5/gds/yzhong22/experiments/med_vlm_benchmark/vqa/VQA-RAD/LLaVA-Med_1epoch/eval_seed0/train_lora_L_seed42_llava_mistral&&python llm_evaluate_vqa_open.py -f /research/d5/gds/yzhong22/experiments/med_vlm_benchmark/vqa/VQA-RAD/LLaVA-Med_1epoch/eval_seed0/train__M_seed42_llava_mistral&&python llm_evaluate_vqa_open.py -f /research/d5/gds/yzhong22/experiments/med_vlm_benchmark/vqa/VQA-RAD/LLaVA-Med_1epoch/eval_seed0/train_lora_ML_seed42_llava_mistral&&python llm_evaluate_vqa_open.py -f /research/d5/gds/yzhong22/experiments/med_vlm_benchmark/vqa/VQA-RAD/LLaVA-Med_1epoch/eval_seed0/train_lora_VLM_seed42_llava_mistral&&python llm_evaluate_vqa_open.py -f /research/d5/gds/yzhong22/experiments/med_vlm_benchmark/vqa/VQA-RAD/LLaVA-Med_1epoch/eval_seed0/train_lora_VM_seed42_llava_mistral&&python llm_evaluate_vqa_open.py -f /research/d5/gds/yzhong22/experiments/med_vlm_benchmark/vqa/VQA-RAD/LLaVA-Med_1epoch/eval_seed0/train_lora_V_seed42_llava_mistral&&python llm_evaluate_vqa_open.py -f /research/d5/gds/yzhong22/experiments/med_vlm_benchmark/vqa/VQA-RAD/LLaVA-Med/eval_seed0/train_lora_L_seed42_llava_mistral&&python llm_evaluate_vqa_open.py -f /research/d5/gds/yzhong22/experiments/med_vlm_benchmark/vqa/VQA-RAD/LLaVA-Med/eval_seed0/train__M_seed42_llava_mistral&&python llm_evaluate_vqa_open.py -f /research/d5/gds/yzhong22/experiments/med_vlm_benchmark/vqa/VQA-RAD/LLaVA-Med/eval_seed0/train_lora_ML_seed42_llava_mistral&&python llm_evaluate_vqa_open.py -f /research/d5/gds/yzhong22/experiments/med_vlm_benchmark/vqa/VQA-RAD/LLaVA-Med/eval_seed0/train_lora_VLM_seed42_llava_mistral&&python llm_evaluate_vqa_open.py -f /research/d5/gds/yzhong22/experiments/med_vlm_benchmark/vqa/VQA-RAD/LLaVA-Med/eval_seed0/train_lora_VM_seed42_llava_mistral&&python llm_evaluate_vqa_open.py -f /research/d5/gds/yzhong22/experiments/med_vlm_benchmark/vqa/VQA-RAD/LLaVA-Med/eval_seed0/train_lora_V_seed42_llava_mistral\n"
     ]
    }
   ],
   "source": [
    "root_mirror = \"/media/yesindeed/DATADRIVE1/mount/remote_cse/experiments/med_vlm_benchmark/vqa\"\n",
    "root = \"/research/d5/gds/yzhong22/experiments/med_vlm_benchmark/vqa\"\n",
    "\n",
    "command = \"python llm_evaluate_vqa_open.py -f {}\"\n",
    "\n",
    "commands_all = []\n",
    "\n",
    "for file in glob.glob(os.path.join(root_mirror, \"*\", \"*\", \"eval_seed0\", \"*\", \"predictions.json\")):\n",
    "    dir = os.path.dirname(file)\n",
    "\n",
    "    commands_all.append(command.format(dir).replace(root_mirror, root))\n",
    "\n",
    "print(\"&&\".join(commands_all))"
   ]
  },
  {
   "cell_type": "code",
   "execution_count": 12,
   "metadata": {},
   "outputs": [
    {
     "name": "stdout",
     "output_type": "stream",
     "text": [
      "python llm_evaluate_vqa_open.py -f /research/d5/gds/yzhong22/experiments/med_vlm_benchmark/vqa-zeroshot/PathVQA/LLaVA-1.5/seed0&&python llm_evaluate_vqa_open.py -f /research/d5/gds/yzhong22/experiments/med_vlm_benchmark/vqa-zeroshot/PathVQA/LLaVA-Med/seed0&&python llm_evaluate_vqa_open.py -f /research/d5/gds/yzhong22/experiments/med_vlm_benchmark/vqa-zeroshot/SLAKE/LLaVA-1.5/seed0&&python llm_evaluate_vqa_open.py -f /research/d5/gds/yzhong22/experiments/med_vlm_benchmark/vqa-zeroshot/SLAKE/LLaVA-Med/seed0&&python llm_evaluate_vqa_open.py -f /research/d5/gds/yzhong22/experiments/med_vlm_benchmark/vqa-zeroshot/VQA-RAD/LLaVA-1.5/seed0&&python llm_evaluate_vqa_open.py -f /research/d5/gds/yzhong22/experiments/med_vlm_benchmark/vqa-zeroshot/VQA-RAD/LLaVA-Med/seed0\n"
     ]
    }
   ],
   "source": [
    "root_mirror = \"/media/yesindeed/DATADRIVE1/mount/remote_cse/experiments/med_vlm_benchmark/vqa-zeroshot\"\n",
    "root = \"/research/d5/gds/yzhong22/experiments/med_vlm_benchmark/vqa-zeroshot\"\n",
    "\n",
    "command = \"python llm_evaluate_vqa_open.py -f {}\"\n",
    "\n",
    "commands_all = []\n",
    "\n",
    "for file in glob.glob(os.path.join(root_mirror, \"*\", \"*\", \"seed0\", \"predictions.json\")):\n",
    "    dir = os.path.dirname(file)\n",
    "\n",
    "    commands_all.append(command.format(dir).replace(root_mirror, root))\n",
    "\n",
    "print(\"&&\".join(commands_all))"
   ]
  },
  {
   "cell_type": "code",
   "execution_count": 14,
   "metadata": {},
   "outputs": [
    {
     "name": "stdout",
     "output_type": "stream",
     "text": [
      "python llm_evaluate_vqa_open.py -f /research/d5/gds/yzhong22/experiments/med_vlm_benchmark/vqa/Harvard-FairVLMed10k/LLaVA-1.5/eval_seed0/train_lora_L_seed42_llava&&python llm_evaluate_vqa_open.py -f /research/d5/gds/yzhong22/experiments/med_vlm_benchmark/vqa/Harvard-FairVLMed10k/LLaVA-1.5/eval_seed0/train__M_seed42_llava&&python llm_evaluate_vqa_open.py -f /research/d5/gds/yzhong22/experiments/med_vlm_benchmark/vqa/Harvard-FairVLMed10k/LLaVA-1.5/eval_seed0/train_lora_ML_seed42_llava&&python llm_evaluate_vqa_open.py -f /research/d5/gds/yzhong22/experiments/med_vlm_benchmark/vqa/Harvard-FairVLMed10k/LLaVA-1.5/eval_seed0/train_lora_VLM_seed42_llava&&python llm_evaluate_vqa_open.py -f /research/d5/gds/yzhong22/experiments/med_vlm_benchmark/vqa/Harvard-FairVLMed10k/LLaVA-1.5/eval_seed0/train_lora_VM_seed42_llava&&python llm_evaluate_vqa_open.py -f /research/d5/gds/yzhong22/experiments/med_vlm_benchmark/vqa/Harvard-FairVLMed10k/LLaVA-Med/eval_seed0/train_lora_L_seed42_llava_mistral&&python llm_evaluate_vqa_open.py -f /research/d5/gds/yzhong22/experiments/med_vlm_benchmark/vqa/Harvard-FairVLMed10k/LLaVA-Med/eval_seed0/train__M_seed42_llava_mistral&&python llm_evaluate_vqa_open.py -f /research/d5/gds/yzhong22/experiments/med_vlm_benchmark/vqa/Harvard-FairVLMed10k/LLaVA-Med/eval_seed0/train_lora_ML_seed42_llava_mistral&&python llm_evaluate_vqa_open.py -f /research/d5/gds/yzhong22/experiments/med_vlm_benchmark/vqa/Harvard-FairVLMed10k/LLaVA-Med/eval_seed0/train_lora_VLM_seed42_llava_mistral&&python llm_evaluate_vqa_open.py -f /research/d5/gds/yzhong22/experiments/med_vlm_benchmark/vqa/Harvard-FairVLMed10k/LLaVA-Med/eval_seed0/train_lora_VM_seed42_llava_mistral&&python llm_evaluate_vqa_open.py -f /research/d5/gds/yzhong22/experiments/med_vlm_benchmark/vqa/Harvard-FairVLMed10k/LLaVA-Med/eval_seed0/train_lora_V_seed42_llava_mistral\n"
     ]
    }
   ],
   "source": [
    "root_mirror = \"/media/yesindeed/DATADRIVE1/mount/remote_cse/experiments/med_vlm_benchmark/vqa\"\n",
    "root = \"/research/d5/gds/yzhong22/experiments/med_vlm_benchmark/vqa\"\n",
    "\n",
    "command = \"python llm_evaluate_vqa_open.py -f {}\"\n",
    "\n",
    "commands_all = []\n",
    "\n",
    "for file in glob.glob(os.path.join(root_mirror, \"Harvard-FairVLMed10k\", \"*\", \"eval_seed0\", \"*\", \"predictions.json\")):\n",
    "    dir = os.path.dirname(file)\n",
    "\n",
    "    if os.path.exists(os.path.join(root_mirror, \"gpt_score.csv\")):\n",
    "        continue\n",
    "\n",
    "    commands_all.append(command.format(dir).replace(root_mirror, root))\n",
    "\n",
    "print(\"&&\".join(commands_all))"
   ]
  },
  {
   "cell_type": "code",
   "execution_count": 15,
   "metadata": {},
   "outputs": [
    {
     "name": "stdout",
     "output_type": "stream",
     "text": [
      "python llm_evaluate_vqa_open.py -f /research/d5/gds/yzhong22/experiments/med_vlm_benchmark/vqa-zeroshot/vqa/Harvard-FairVLMed10k/LLaVA-1.5/eval_seed0/llava-v1.5-7b&&python llm_evaluate_vqa_open.py -f /research/d5/gds/yzhong22/experiments/med_vlm_benchmark/vqa-zeroshot/vqa/Harvard-FairVLMed10k/LLaVA-Med/eval_seed0/llava-med-v1.5-mistral-7b\n"
     ]
    }
   ],
   "source": [
    "root_mirror = \"/media/yesindeed/DATADRIVE1/mount/remote_cse/experiments/med_vlm_benchmark/vqa-zeroshot/vqa\"\n",
    "root = \"/research/d5/gds/yzhong22/experiments/med_vlm_benchmark/vqa-zeroshot/vqa\"\n",
    "\n",
    "command = \"python llm_evaluate_vqa_open.py -f {}\"\n",
    "\n",
    "commands_all = []\n",
    "\n",
    "for file in glob.glob(os.path.join(root_mirror, \"Harvard-FairVLMed10k\", \"*\", \"eval_seed0\", \"*\", \"predictions.json\")):\n",
    "    dir = os.path.dirname(file)\n",
    "\n",
    "    if os.path.exists(os.path.join(root_mirror, \"gpt_score.csv\")):\n",
    "        continue\n",
    "\n",
    "    commands_all.append(command.format(dir).replace(root_mirror, root))\n",
    "\n",
    "print(\"&&\".join(commands_all))"
   ]
  },
  {
   "cell_type": "code",
   "execution_count": null,
   "metadata": {},
   "outputs": [],
   "source": []
  }
 ],
 "metadata": {
  "kernelspec": {
   "display_name": "vlmbenchmark",
   "language": "python",
   "name": "python3"
  },
  "language_info": {
   "codemirror_mode": {
    "name": "ipython",
    "version": 3
   },
   "file_extension": ".py",
   "mimetype": "text/x-python",
   "name": "python",
   "nbconvert_exporter": "python",
   "pygments_lexer": "ipython3",
   "version": "3.11.0"
  }
 },
 "nbformat": 4,
 "nbformat_minor": 2
}
