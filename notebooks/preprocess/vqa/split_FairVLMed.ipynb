{
 "cells": [
  {
   "cell_type": "code",
   "execution_count": 2,
   "metadata": {},
   "outputs": [],
   "source": [
    "import pandas as pd\n",
    "import numpy as np\n",
    "import os"
   ]
  },
  {
   "cell_type": "code",
   "execution_count": 4,
   "metadata": {},
   "outputs": [],
   "source": [
    "root = \"/media/yesindeed/DATADRIVE1/mount/remote_cse/datasets/Harvard-FairVLMed10k\"\n",
    "\n",
    "splits = [\"train\", \"validation\", \"test\"]\n",
    "\n",
    "df_vqa_all = pd.read_csv(os.path.join(root, \"vqa_all.csv\"))\n",
    "\n",
    "for s in splits:\n",
    "    df_split = pd.read_csv(os.path.join(root, f\"caption_{s}.csv\"))\n",
    "\n",
    "    df_sub = df_vqa_all.loc[df_vqa_all[\"filename\"].isin(df_split[\"filename\"])]\n",
    "\n",
    "    df_sub.to_csv(os.path.join(root, f\"vqa_{s}.csv\"), index=False)"
   ]
  },
  {
   "cell_type": "code",
   "execution_count": null,
   "metadata": {},
   "outputs": [],
   "source": []
  }
 ],
 "metadata": {
  "kernelspec": {
   "display_name": "vlmbenchmark",
   "language": "python",
   "name": "python3"
  },
  "language_info": {
   "codemirror_mode": {
    "name": "ipython",
    "version": 3
   },
   "file_extension": ".py",
   "mimetype": "text/x-python",
   "name": "python",
   "nbconvert_exporter": "python",
   "pygments_lexer": "ipython3",
   "version": "3.11.0"
  }
 },
 "nbformat": 4,
 "nbformat_minor": 2
}
